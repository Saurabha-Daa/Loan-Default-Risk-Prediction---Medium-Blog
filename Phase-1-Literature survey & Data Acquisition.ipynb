{
  "nbformat": 4,
  "nbformat_minor": 0,
  "metadata": {
    "colab": {
      "name": "Phase-1.ipynb",
      "provenance": [],
      "collapsed_sections": []
    },
    "kernelspec": {
      "name": "python3",
      "display_name": "Python 3"
    },
    "language_info": {
      "name": "python"
    }
  },
  "cells": [
    {
      "cell_type": "markdown",
      "metadata": {
        "id": "1mU_DzUnqgx5"
      },
      "source": [
        "**Import Libraries**"
      ]
    },
    {
      "cell_type": "code",
      "metadata": {
        "id": "hut10oL_qd_Y"
      },
      "source": [
        "'''In this code cell, various libraries required for code execution are imported.'''\n",
        "\n",
        "import numpy as np\n",
        "import pandas as pd\n",
        "import matplotlib as plt\n",
        "import random\n",
        "\n",
        "random.seed(10)"
      ],
      "execution_count": 1,
      "outputs": []
    },
    {
      "cell_type": "markdown",
      "metadata": {
        "id": "oU99o4wWqvHe"
      },
      "source": [
        "**Data set generation**"
      ]
    },
    {
      "cell_type": "code",
      "metadata": {
        "colab": {
          "base_uri": "https://localhost:8080/",
          "height": 206
        },
        "id": "E4LyRqkNqxuf",
        "outputId": "bf2e2021-f8ed-4977-bdec-cf1b98edb7a0"
      },
      "source": [
        "'''In this code cell, a synthetic dataset is generated which consists of 3 columns - \n",
        "probability, actual_y and predicted_y. There are a total of 50 data points in this dataset.\n",
        "The probability column indicates the probabilities predicted by a model and are generated using \n",
        "random number generation between 0 & 1. The values in actual_y column are the actual values of \n",
        "dependent variable of the dataset. These entries in actaul_y are assigned value of 1 for 1st 25 \n",
        "entries and 0 for next 25 entries. The values in predicted_y are predicted values of dependent \n",
        "variable of the dataset. These predicted_y values are obtained by comparing the values of \n",
        "probability column with the cut-off which is 0.5 in this case. A probability of more than 0.5 \n",
        "is assigned a value of 1 in predicted_y column else a value of 0 is assigned.'''\n",
        "\n",
        "data = []\n",
        "for i in range(1,51):\n",
        "  if i < 26:\n",
        "    row = [random.random(), 1]\n",
        "    row.append(0 if row[0] < .5 else 1)\n",
        "    data.append(tuple(row))\n",
        "  else:\n",
        "    row = [random.random(), 0]\n",
        "    row.append(0 if row[0] < .5 else 1)\n",
        "    data.append(tuple(row))\n",
        "\n",
        "df = pd.DataFrame(data, columns=['probability', 'actual_y', 'predicted_y'])\n",
        "df.head(5)\n",
        "#print(data)\n",
        "#print(df)"
      ],
      "execution_count": 2,
      "outputs": [
        {
          "output_type": "execute_result",
          "data": {
            "text/html": [
              "<div>\n",
              "<style scoped>\n",
              "    .dataframe tbody tr th:only-of-type {\n",
              "        vertical-align: middle;\n",
              "    }\n",
              "\n",
              "    .dataframe tbody tr th {\n",
              "        vertical-align: top;\n",
              "    }\n",
              "\n",
              "    .dataframe thead th {\n",
              "        text-align: right;\n",
              "    }\n",
              "</style>\n",
              "<table border=\"1\" class=\"dataframe\">\n",
              "  <thead>\n",
              "    <tr style=\"text-align: right;\">\n",
              "      <th></th>\n",
              "      <th>probability</th>\n",
              "      <th>actual_y</th>\n",
              "      <th>predicted_y</th>\n",
              "    </tr>\n",
              "  </thead>\n",
              "  <tbody>\n",
              "    <tr>\n",
              "      <th>0</th>\n",
              "      <td>0.571403</td>\n",
              "      <td>1</td>\n",
              "      <td>1</td>\n",
              "    </tr>\n",
              "    <tr>\n",
              "      <th>1</th>\n",
              "      <td>0.428889</td>\n",
              "      <td>1</td>\n",
              "      <td>0</td>\n",
              "    </tr>\n",
              "    <tr>\n",
              "      <th>2</th>\n",
              "      <td>0.578091</td>\n",
              "      <td>1</td>\n",
              "      <td>1</td>\n",
              "    </tr>\n",
              "    <tr>\n",
              "      <th>3</th>\n",
              "      <td>0.206098</td>\n",
              "      <td>1</td>\n",
              "      <td>0</td>\n",
              "    </tr>\n",
              "    <tr>\n",
              "      <th>4</th>\n",
              "      <td>0.813321</td>\n",
              "      <td>1</td>\n",
              "      <td>1</td>\n",
              "    </tr>\n",
              "  </tbody>\n",
              "</table>\n",
              "</div>"
            ],
            "text/plain": [
              "   probability  actual_y  predicted_y\n",
              "0     0.571403         1            1\n",
              "1     0.428889         1            0\n",
              "2     0.578091         1            1\n",
              "3     0.206098         1            0\n",
              "4     0.813321         1            1"
            ]
          },
          "metadata": {},
          "execution_count": 2
        }
      ]
    },
    {
      "cell_type": "markdown",
      "metadata": {
        "id": "5A13kaAkjNEC"
      },
      "source": [
        "**Data preparation**"
      ]
    },
    {
      "cell_type": "code",
      "metadata": {
        "id": "a6Kymav8jNuv"
      },
      "source": [
        "'''In this code cell, data preparation is done. A sorted data frame called df_sorted is created \n",
        "by sorting the probability data in df dataframe in descending order. Subsequently 3 numpy \n",
        "arrays namely probability, actual_y and predicted_y are created by the values from the columns \n",
        "with same name in df_sorted.'''\n",
        "\n",
        "df_sorted = df.sort_values(by='probability', ascending=False)\n",
        "#print(df_sorted)\n",
        "\n",
        "probability = df_sorted['probability'].to_numpy()\n",
        "#print(probability)\n",
        "\n",
        "actual_y = df_sorted['actual_y'].to_numpy()\n",
        "#print(actual_y)\n",
        "\n",
        "predicted_y = df_sorted['predicted_y'].to_numpy()\n",
        "#print(predicted_y)"
      ],
      "execution_count": 3,
      "outputs": []
    },
    {
      "cell_type": "markdown",
      "metadata": {
        "id": "m7LfoKaRt28w"
      },
      "source": [
        "**Confusion matrix**"
      ]
    },
    {
      "cell_type": "code",
      "metadata": {
        "colab": {
          "base_uri": "https://localhost:8080/"
        },
        "id": "w_ZpIYpUuBm6",
        "outputId": "5243d94e-ce4e-4a1c-e714-ea4acc39376c"
      },
      "source": [
        "'''In this code cell, confusion matrix is created. Each value of predicted_y is compared by \n",
        "the corresponding value of actual_y; and the labels of TN, FN, TP & FP are assigned for True \n",
        "negative, False negative, True positive & False positive respectively. False positive rate \n",
        "and True positive rate are also calculated.'''\n",
        "\n",
        "comparision = []\n",
        "for k in range(0, 50):\n",
        "  if predicted_y[k] == 0 and predicted_y[k] == actual_y[k]:\n",
        "    comparision.append('TN')\n",
        "  if predicted_y[k] == 0 and predicted_y[k] != actual_y[k]:\n",
        "    comparision.append('FN')\n",
        "  if predicted_y[k] == 1 and predicted_y[k] == actual_y[k]:\n",
        "    comparision.append('TP')\n",
        "  if predicted_y[k] == 1 and predicted_y[k] != actual_y[k]:\n",
        "    comparision.append('FP')\n",
        "print('Confusion matrix:')\n",
        "print(np.array([[comparision.count('TN'), comparision.count('FP')], [comparision.count('FN'), comparision.count('TP')]]))\n",
        "print('Total True Positive = ', comparision.count('TP'))\n",
        "print('Total True Negative = ', comparision.count('TN'))\n",
        "print('Total False Positive = ', comparision.count('FP'))\n",
        "print('Total False Negative = ', comparision.count('FN'))\n",
        "print('False positive rate, FPR = ', comparision.count('FP')/np.count_nonzero(actual_y == 0))\n",
        "print('True positive rate, TPR = ', comparision.count('TP')/np.count_nonzero(actual_y == 1))"
      ],
      "execution_count": 4,
      "outputs": [
        {
          "output_type": "stream",
          "name": "stdout",
          "text": [
            "Confusion matrix:\n",
            "[[14 11]\n",
            " [10 15]]\n",
            "Total True Positive =  15\n",
            "Total True Negative =  14\n",
            "Total False Positive =  11\n",
            "Total False Negative =  10\n",
            "False positive rate, FPR =  0.44\n",
            "True positive rate, TPR =  0.6\n"
          ]
        }
      ]
    },
    {
      "cell_type": "markdown",
      "metadata": {
        "id": "kZZl1BJyzsrR"
      },
      "source": [
        "**Compare the Confusion matrix obtained above with Confusion matrix obtained by using standard library**"
      ]
    },
    {
      "cell_type": "code",
      "metadata": {
        "colab": {
          "base_uri": "https://localhost:8080/"
        },
        "id": "LS_spzcyztaq",
        "outputId": "14f9295d-d39a-4463-f587-99199ea895ac"
      },
      "source": [
        "'''In this code cell, the confusion matrix obtained above in the previous cell is compared \n",
        "to confusion matrix obtained by using standard library. We find that the confusion matrix \n",
        "obtained above is correct.'''\n",
        "\n",
        "from sklearn.metrics import confusion_matrix\n",
        "\n",
        "confusion_matrix(actual_y, predicted_y)"
      ],
      "execution_count": 5,
      "outputs": [
        {
          "output_type": "execute_result",
          "data": {
            "text/plain": [
              "array([[14, 11],\n",
              "       [10, 15]])"
            ]
          },
          "metadata": {},
          "execution_count": 5
        }
      ]
    },
    {
      "cell_type": "markdown",
      "metadata": {
        "id": "b9tN8pCS4nIP"
      },
      "source": [
        "**Generate TPR and FPR for ROC**"
      ]
    },
    {
      "cell_type": "code",
      "metadata": {
        "id": "b7HwUHrP5MQO"
      },
      "source": [
        "'''In this code cell, x and y cordinates for ROC curve are calculated and stored in FPR and TPR \n",
        "respectively. Each value in probability array is made a benchmark and other values are compared \n",
        "with it to create a comparision array which indicates whether the bench mark based predictions \n",
        "are True negative (TN) or False negative (FN) or True positive (TP) or False positive (FP)'''\n",
        "\n",
        "benchmark = 10\n",
        "\n",
        "FPR = []\n",
        "TPR = []\n",
        "for j in range(0, 50):\n",
        "  if probability[j] != benchmark:\n",
        "    benchmark = probability[j]\n",
        "    benchmark_based_predictions = []\n",
        "    comparision = []\n",
        "    for k in range(0, 50):\n",
        "      benchmark_based_predictions.append(1 if probability[k] >= benchmark else 0)      \n",
        "      if benchmark_based_predictions[k] == 0 and benchmark_based_predictions[k] == actual_y[k]:\n",
        "        comparision.append('TN')\n",
        "      if benchmark_based_predictions[k] == 0 and benchmark_based_predictions[k] != actual_y[k]:\n",
        "        comparision.append('FN')\n",
        "      if benchmark_based_predictions[k] == 1 and benchmark_based_predictions[k] == actual_y[k]:\n",
        "        comparision.append('TP')\n",
        "      if benchmark_based_predictions[k] == 1 and benchmark_based_predictions[k] != actual_y[k]:\n",
        "        comparision.append('FP')\n",
        "    x = comparision.count('FP')/np.count_nonzero(actual_y == 0)\n",
        "    FPR.append(x)\n",
        "    y = comparision.count('TP')/np.count_nonzero(actual_y == 1)  \n",
        "    TPR.append(y)  \n",
        "\n",
        "#print(FPR)\n",
        "#print(TPR)"
      ],
      "execution_count": 6,
      "outputs": []
    },
    {
      "cell_type": "markdown",
      "metadata": {
        "id": "kSf6dIYKXQFq"
      },
      "source": [
        "**Plot ROC and calculate AUC**"
      ]
    },
    {
      "cell_type": "code",
      "metadata": {
        "colab": {
          "base_uri": "https://localhost:8080/",
          "height": 296
        },
        "id": "i9hOo5OwXUX-",
        "outputId": "a8df98f4-5d7d-47e3-a892-3746651ebaa2"
      },
      "source": [
        "'''In this code cell, ROC is plotted and AUC is calculated using trapezoidal rule.'''\n",
        "\n",
        "plt.pyplot.plot(FPR, TPR)\n",
        "plt.pyplot.ylabel('TPR')\n",
        "plt.pyplot.xlabel('FPR')\n",
        "plt.pyplot.grid()\n",
        "plt.pyplot.show()\n",
        "\n",
        "area = sum(.5*(TPR[i] + TPR[i+1])*(FPR[i+1] - FPR[i]) for i in range(0,49))\n",
        "print(area)"
      ],
      "execution_count": 7,
      "outputs": [
        {
          "output_type": "display_data",
          "data": {
            "image/png": "[encoded data removed]",
            "text/plain": [
              "<Figure size 432x288 with 1 Axes>"
            ]
          },
          "metadata": {
            "needs_background": "light"
          }
        },
        {
          "output_type": "stream",
          "name": "stdout",
          "text": [
            "0.6\n"
          ]
        }
      ]
    },
    {
      "cell_type": "markdown",
      "metadata": {
        "id": "X0Yjrs6WiVRu"
      },
      "source": [
        "**Compare AUC calculated above with AUC calculated by using standard library**"
      ]
    },
    {
      "cell_type": "code",
      "metadata": {
        "colab": {
          "base_uri": "https://localhost:8080/"
        },
        "id": "Xu0vKdeYiVzC",
        "outputId": "f92e237f-e2c1-4dad-f053-0f35d4e29fd3"
      },
      "source": [
        "'''In this codecell, the AUC calculated above in the previous cell is caompared with the AUC \n",
        "calculated by using standard library. We find that the AUC calculated above is correct.'''\n",
        "\n",
        "from sklearn.metrics import roc_auc_score\n",
        "\n",
        "roc_auc_score(actual_y, probability)"
      ],
      "execution_count": 8,
      "outputs": [
        {
          "output_type": "execute_result",
          "data": {
            "text/plain": [
              "0.6000000000000001"
            ]
          },
          "metadata": {},
          "execution_count": 8
        }
      ]
    }
  ]
}